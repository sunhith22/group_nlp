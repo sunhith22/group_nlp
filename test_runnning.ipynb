{
 "cells": [
  {
   "cell_type": "code",
   "execution_count": 4,
   "id": "0e03087c",
   "metadata": {},
   "outputs": [
    {
     "name": "stdout",
     "output_type": "stream",
     "text": [
      "{'prediction': ['B-O', 'B-O', 'B-O', 'B-O', 'B-O', 'B-O', 'B-O', 'B-O', 'B-O', 'B-O', 'B-AC', 'B-O', 'B-O', 'I-LF', 'B-O', 'B-O', 'B-AC', 'B-O', 'B-O']}\n"
     ]
    }
   ],
   "source": [
    "import requests\n",
    "import json\n",
    "\n",
    "def test_prediction(tokens, url='http://127.0.0.1:5000/predict'):\n",
    "    headers = {'Content-Type': 'application/json'}\n",
    "    data = {'tokens': tokens}\n",
    "    \n",
    "    response = requests.post(url, headers=headers, data=json.dumps(data))\n",
    "    \n",
    "    if response.status_code == 200:\n",
    "        return response.json()\n",
    "    else:\n",
    "        return {\"error\": response.status_code, \"message\": response.text}\n",
    "\n",
    "# Example usage\n",
    "tokens = [\"We\", \"performed\", \"a\", \"linear\", \"regression\", \"model\", \"of\", \"the\", \"effect\", \"of\", \"PCL\", \"on\", \"Dizziness\", \"Handicap\", \"Inventory\", \"(\", \"DHI\", \")\", \".\"]\n",
    "response = test_prediction(tokens)\n",
    "print(response)\n"
   ]
  },
  {
   "cell_type": "code",
   "execution_count": null,
   "id": "9bc736a7",
   "metadata": {},
   "outputs": [],
   "source": []
  }
 ],
 "metadata": {
  "kernelspec": {
   "display_name": "Python 3 (ipykernel)",
   "language": "python",
   "name": "python3"
  },
  "language_info": {
   "codemirror_mode": {
    "name": "ipython",
    "version": 3
   },
   "file_extension": ".py",
   "mimetype": "text/x-python",
   "name": "python",
   "nbconvert_exporter": "python",
   "pygments_lexer": "ipython3",
   "version": "3.11.4"
  }
 },
 "nbformat": 4,
 "nbformat_minor": 5
}
