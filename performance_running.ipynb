{
 "cells": [
  {
   "cell_type": "code",
   "execution_count": 4,
   "id": "c991f5c3",
   "metadata": {},
   "outputs": [
    {
     "name": "stdout",
     "output_type": "stream",
     "text": [
      "Total Requests: 100\n",
      "Successful Requests: 100\n",
      "Failed Requests: 0\n",
      "Average Response Time: 0.0876 seconds\n"
     ]
    }
   ],
   "source": [
    "import requests\n",
    "import json\n",
    "import time\n",
    "import logging\n",
    "from datetime import datetime\n",
    "\n",
    "# Function to test the prediction endpoint\n",
    "def test_prediction(tokens, url='http://127.0.0.1:5000/predict'):\n",
    "    headers = {'Content-Type': 'application/json'}\n",
    "    data = {'tokens': tokens}\n",
    "    \n",
    "    response = requests.post(url, headers=headers, data=json.dumps(data))\n",
    "    \n",
    "    if response.status_code == 200:\n",
    "        return response.json()\n",
    "    else:\n",
    "        return {\"error\": response.status_code, \"message\": response.text}\n",
    "\n",
    "# Function to perform performance testing\n",
    "def performance_test(num_requests=100):\n",
    "    tokens = [\"We\", \"performed\", \"a\", \"linear\", \"regression\", \"model\", \"of\", \"the\", \"effect\", \"of\", \"PCL\", \"on\", \"Dizziness\", \"Handicap\", \"Inventory\", \"(\", \"DHI\", \")\", \".\"]\n",
    "    total_time = 0\n",
    "    successes = 0\n",
    "    failures = 0\n",
    "\n",
    "    for _ in range(num_requests):\n",
    "        start_time = time.time()\n",
    "        response = test_prediction(tokens)\n",
    "        end_time = time.time()\n",
    "\n",
    "        if 'error' not in response:\n",
    "            successes += 1\n",
    "        else:\n",
    "            failures += 1\n",
    "        \n",
    "        total_time += (end_time - start_time)\n",
    "    \n",
    "    average_time = total_time / num_requests\n",
    "    print(f\"Total Requests: {num_requests}\")\n",
    "    print(f\"Successful Requests: {successes}\")\n",
    "    print(f\"Failed Requests: {failures}\")\n",
    "    print(f\"Average Response Time: {average_time:.4f} seconds\")\n",
    "\n",
    "# Configure logging\n",
    "logging.basicConfig(filename='model_predictions.log', level=logging.INFO, format='%(asctime)s - %(message)s')\n",
    "\n",
    "# Function to log predictions\n",
    "def log_prediction(tokens, predictions):\n",
    "    log_entry = {\n",
    "        'timestamp': datetime.now().isoformat(),\n",
    "        'tokens': tokens,\n",
    "        'predictions': predictions\n",
    "    }\n",
    "    logging.info(json.dumps(log_entry))\n",
    "\n",
    "# Example logging usage\n",
    "tokens = [\"We\", \"performed\", \"a\", \"linear\", \"regression\", \"model\", \"of\", \"the\", \"effect\", \"of\", \"PCL\", \"on\", \"Dizziness\", \"Handicap\", \"Inventory\", \"(\", \"DHI\", \")\", \".\"]\n",
    "response = test_prediction(tokens)\n",
    "if 'prediction' in response:\n",
    "    log_prediction(tokens, response['prediction'])\n",
    "\n",
    "# Run the performance test\n",
    "performance_test(100)\n"
   ]
  },
  {
   "cell_type": "code",
   "execution_count": 3,
   "id": "51d143e9",
   "metadata": {},
   "outputs": [
    {
     "name": "stdout",
     "output_type": "stream",
     "text": [
      "Total Requests: 100\n",
      "Successful Requests: 100\n",
      "Failed Requests: 0\n",
      "Average Response Time: 0.0890 seconds\n"
     ]
    }
   ],
   "source": [
    "performance_test(100)\n"
   ]
  }
 ],
 "metadata": {
  "kernelspec": {
   "display_name": "Python 3 (ipykernel)",
   "language": "python",
   "name": "python3"
  },
  "language_info": {
   "codemirror_mode": {
    "name": "ipython",
    "version": 3
   },
   "file_extension": ".py",
   "mimetype": "text/x-python",
   "name": "python",
   "nbconvert_exporter": "python",
   "pygments_lexer": "ipython3",
   "version": "3.11.4"
  }
 },
 "nbformat": 4,
 "nbformat_minor": 5
}
